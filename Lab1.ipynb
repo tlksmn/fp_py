{
 "cells": [
  {
   "cell_type": "markdown",
   "id": "25479074",
   "metadata": {},
   "source": [
    "## Лабораторная № 1\n",
    "\n",
    "* lambda functions\n",
    "* map(function, iterables)\n",
    "* filter(function, iterables)\n",
    "* reduce(fucntion, iterables)"
   ]
  },
  {
   "cell_type": "code",
   "execution_count": null,
   "id": "5214522b",
   "metadata": {},
   "outputs": [],
   "source": [
    "#Какие типы аргументов вы знаете?"
   ]
  },
  {
   "cell_type": "code",
   "execution_count": null,
   "id": "8e219d0a",
   "metadata": {},
   "outputs": [],
   "source": [
    "def print_numbers(a, b, c):\n",
    "    print(\"a: \", a)\n",
    "    print(\"b: \", b)\n",
    "    print(\"c: \", c)"
   ]
  },
  {
   "cell_type": "code",
   "execution_count": null,
   "id": "95b0b746",
   "metadata": {},
   "outputs": [],
   "source": [
    "print_numbers(1, 2, 3)"
   ]
  },
  {
   "cell_type": "code",
   "execution_count": null,
   "id": "1df8589f",
   "metadata": {},
   "outputs": [],
   "source": [
    "print_numbers(1, 2)"
   ]
  },
  {
   "cell_type": "code",
   "execution_count": null,
   "id": "ea74c58f",
   "metadata": {},
   "outputs": [],
   "source": [
    "def print_numbers_1(a=1, b=2, c=3):\n",
    "    print(\"a: \", a)\n",
    "    print(\"b: \", b)\n",
    "    print(\"c: \", c)"
   ]
  },
  {
   "cell_type": "code",
   "execution_count": null,
   "id": "4ab900be",
   "metadata": {},
   "outputs": [],
   "source": [
    "print_numbers_1(a=4, b=5, c=6)"
   ]
  },
  {
   "cell_type": "code",
   "execution_count": null,
   "id": "ea405b39",
   "metadata": {},
   "outputs": [],
   "source": [
    "print_numbers_1(2, c=7)"
   ]
  },
  {
   "cell_type": "code",
   "execution_count": null,
   "id": "495da2a5",
   "metadata": {},
   "outputs": [],
   "source": [
    "list1 = [1, 2, 3]\n",
    "list2 = [*list1, 4, 5, 6]"
   ]
  },
  {
   "cell_type": "code",
   "execution_count": null,
   "id": "8862aa02",
   "metadata": {},
   "outputs": [],
   "source": [
    "print(list2) "
   ]
  },
  {
   "cell_type": "code",
   "execution_count": null,
   "id": "74258cb7",
   "metadata": {},
   "outputs": [],
   "source": [
    "def print_scores(student, *scores):\n",
    "    print(f\"student name: {student}\")\n",
    "    for score in scores:\n",
    "        print(score)"
   ]
  },
  {
   "cell_type": "code",
   "execution_count": null,
   "id": "05002c85",
   "metadata": {},
   "outputs": [],
   "source": [
    "print_scores(\"Jane\", 100, 95, 88, 92, 99)"
   ]
  },
  {
   "cell_type": "code",
   "execution_count": null,
   "id": "530e34d3",
   "metadata": {},
   "outputs": [],
   "source": [
    "def print_pets(owner, **pets):\n",
    "    print(f\"owner name: {owner}\")\n",
    "    for pet, name in pets.items():\n",
    "        print(f\"{pet}: {name}\")\n"
   ]
  },
  {
   "cell_type": "code",
   "execution_count": null,
   "id": "62ff40f5",
   "metadata": {},
   "outputs": [],
   "source": [
    "print_pets(\"Jane\", dog=\"Pit\", fish=[\"Larry\", \"Sam\", \"Lim\"], turtle=\"Shelldon\")\n"
   ]
  },
  {
   "cell_type": "markdown",
   "id": "22b98d2c",
   "metadata": {},
   "source": [
    "### Задача 1.\n",
    "Используя анонимные функции, напишите программу для проверки надежности пароля. Надежный пароль должен содержать не менее 9 символов; кроме того, в пароле должна быть хотя бы одна:\n",
    "\n",
    "* буква в верхнем регистре;\n",
    "* буква в нижнем регистре;\n",
    "* цифра;\n",
    "* хотя бы один символа из набора !@#$%^&*()-+"
   ]
  },
  {
   "cell_type": "markdown",
   "id": "03bd14f8",
   "metadata": {},
   "source": [
    "### Задача 2.\n",
    "В цветовой схеме RGB цвета задаются с помощью трех компонентов:\n",
    "\n",
    "R — интенсивность красной составляющей цвета;\n",
    "G — интенсивность зеленой составляющей цвета;\n",
    "B — интенсивность синей составляющей цвета.\n",
    "Противоположные цвета задаются как RGB и (255-R)(255-G)(255-B). Считается, что такие цвета хорошо гармонируют друг с другом.\n",
    "\n",
    "Напишите программу, которая по трем компонентам заданного цвета, находит компоненты противоположного цвета."
   ]
  },
  {
   "cell_type": "markdown",
   "id": "15ab28d8",
   "metadata": {},
   "source": [
    "### Задача 3.\n",
    "На вход программе подаются три строки текста с вещественными числами, значениями абсцисс (x),\n",
    "ординат (y) и аппликат (z) точек трехмерной плоскости.\n",
    "Напишите программу для проверки расположения всех точек с введенными координатами\n",
    "внутри либо на поверхности шара с центром в начале координат и радиусом R=2."
   ]
  },
  {
   "cell_type": "markdown",
   "id": "cda3d0db",
   "metadata": {},
   "source": [
    "### Задача 4.\n",
    "Напишите свою реализацию функции filter()"
   ]
  },
  {
   "cell_type": "markdown",
   "id": "ab3bb134",
   "metadata": {},
   "source": [
    "*******"
   ]
  },
  {
   "cell_type": "markdown",
   "id": "d47a89b3",
   "metadata": {},
   "source": [
    "You are given an integer array nums containing distinct numbers, and you can perform the following operations until the array is empty:\n",
    "\n",
    "If the first element has the smallest value, remove it\n",
    "Otherwise, put the first element at the end of the array.\n",
    "Return an integer denoting the number of operations it takes to make nums empty.\n",
    "\n"
   ]
  },
  {
   "cell_type": "code",
   "execution_count": null,
   "id": "824efb92",
   "metadata": {},
   "outputs": [],
   "source": []
  }
 ],
 "metadata": {
  "kernelspec": {
   "display_name": "Python 3 (ipykernel)",
   "language": "python",
   "name": "python3"
  },
  "language_info": {
   "codemirror_mode": {
    "name": "ipython",
    "version": 3
   },
   "file_extension": ".py",
   "mimetype": "text/x-python",
   "name": "python",
   "nbconvert_exporter": "python",
   "pygments_lexer": "ipython3",
   "version": "3.10.10"
  }
 },
 "nbformat": 4,
 "nbformat_minor": 5
}
