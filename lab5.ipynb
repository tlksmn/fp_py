{
 "cells": [
  {
   "cell_type": "markdown",
   "source": [],
   "metadata": {
    "collapsed": false
   },
   "id": "2d2bfb3fbbb5d1c2"
  },
  {
   "cell_type": "code",
   "execution_count": 34,
   "outputs": [
    {
     "name": "stdout",
     "output_type": "stream",
     "text": [
      "Сочетания:\n",
      "(1, 2)\n",
      "Перестановка:\n",
      "(1, 2, 3)\n",
      "Размещение:\n",
      "(1, 2)\n"
     ]
    }
   ],
   "source": [
    "import itertools\n",
    "a = [int(e) for e in input().split()]\n",
    "def combinations(elements, r):\n",
    "    for combination in itertools.combinations(elements, r):\n",
    "        yield combination\n",
    "\n",
    "def permutations(elements):\n",
    "    for permutation in itertools.permutations(elements):\n",
    "        yield permutation\n",
    "\n",
    "def arrangements(elements, r):\n",
    "    for arrangement in itertools.permutations(elements, r):\n",
    "        yield arrangement\n",
    "\n",
    "r = 2\n",
    "\n",
    "combinations_generator = combinations(a, r)\n",
    "permutations_generator = permutations(a)\n",
    "arrangements_generator = arrangements(a, r)\n",
    "\n",
    "#n!/(n-k)! * k!\n",
    "print(\"Сочетания:\")\n",
    "print(next(combinations_generator))\n",
    "#n!\n",
    "print(\"Перестановка:\")\n",
    "print(next(permutations_generator))\n",
    "\n",
    "#n!/(n-k)!\n",
    "print(\"Размещение:\")\n",
    "print(next(arrangements_generator))"
   ],
   "metadata": {
    "collapsed": false,
    "ExecuteTime": {
     "end_time": "2024-03-26T05:59:34.004730700Z",
     "start_time": "2024-03-26T05:59:33.986633800Z"
    }
   },
   "id": "4f51852dd786d614"
  },
  {
   "cell_type": "code",
   "execution_count": null,
   "outputs": [],
   "source": [
    "# for permutation in permutations(a):\n",
    "#     print(permutation)"
   ],
   "metadata": {
    "collapsed": false
   },
   "id": "5493ee0212805d2"
  }
 ],
 "metadata": {
  "kernelspec": {
   "display_name": "Python 3",
   "language": "python",
   "name": "python3"
  },
  "language_info": {
   "codemirror_mode": {
    "name": "ipython",
    "version": 2
   },
   "file_extension": ".py",
   "mimetype": "text/x-python",
   "name": "python",
   "nbconvert_exporter": "python",
   "pygments_lexer": "ipython2",
   "version": "2.7.6"
  }
 },
 "nbformat": 4,
 "nbformat_minor": 5
}
